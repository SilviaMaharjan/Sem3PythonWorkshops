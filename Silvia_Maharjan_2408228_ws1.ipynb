{
  "nbformat": 4,
  "nbformat_minor": 0,
  "metadata": {
    "colab": {
      "provenance": [],
      "toc_visible": true
    },
    "kernelspec": {
      "name": "python3",
      "display_name": "Python 3"
    },
    "language_info": {
      "name": "python"
    }
  },
  "cells": [
    {
      "cell_type": "code",
      "execution_count": null,
      "metadata": {
        "colab": {
          "base_uri": "https://localhost:8080/"
        },
        "id": "rqkiCWx-Y96x",
        "outputId": "a1ab899d-29c4-4eba-f18c-ca3065aa8721"
      },
      "outputs": [
        {
          "output_type": "stream",
          "name": "stdout",
          "text": [
            "[[4.9e-324 9.9e-324]\n",
            " [1.5e-323 2.0e-323]]\n"
          ]
        }
      ],
      "source": [
        "# TODO TASK\n",
        "# Problem - 1: Array Creation:\n",
        "# 1\n",
        "import numpy as np\n",
        "\n",
        "array = np.empty((2, 2))\n",
        "print(array)\n"
      ]
    },
    {
      "cell_type": "code",
      "source": [
        "# 2\n",
        "\n",
        "import numpy as np\n",
        "\n",
        "array = np.ones((4, 2))\n",
        "print(array)"
      ],
      "metadata": {
        "colab": {
          "base_uri": "https://localhost:8080/"
        },
        "id": "ekPnFZKScIGw",
        "outputId": "3940c82b-310d-4cde-d3f5-8e0572a70b03"
      },
      "execution_count": null,
      "outputs": [
        {
          "output_type": "stream",
          "name": "stdout",
          "text": [
            "[[1. 1.]\n",
            " [1. 1.]\n",
            " [1. 1.]\n",
            " [1. 1.]]\n"
          ]
        }
      ]
    },
    {
      "cell_type": "code",
      "source": [
        "# 3\n",
        "\n",
        "import numpy as np\n",
        "\n",
        "shape = (3, 2)\n",
        "fill_value = 13\n",
        "\n",
        "array = np.full(shape, fill_value)\n",
        "print(array)\n"
      ],
      "metadata": {
        "colab": {
          "base_uri": "https://localhost:8080/"
        },
        "id": "6WPgq7CKenDl",
        "outputId": "0204b3a8-fff8-41a5-9a45-b3ccba5e08eb"
      },
      "execution_count": null,
      "outputs": [
        {
          "output_type": "stream",
          "name": "stdout",
          "text": [
            "[[13 13]\n",
            " [13 13]\n",
            " [13 13]]\n"
          ]
        }
      ]
    },
    {
      "cell_type": "code",
      "source": [
        "# 4\n",
        "\n",
        "import numpy as np\n",
        "\n",
        "array = np.zeros_like(np.full((3,2), 13))\n",
        "print(array)"
      ],
      "metadata": {
        "id": "OMVN5JKbem_U",
        "colab": {
          "base_uri": "https://localhost:8080/"
        },
        "outputId": "9d600e31-9f73-4da4-d33e-473a36df0f8e"
      },
      "execution_count": null,
      "outputs": [
        {
          "output_type": "stream",
          "name": "stdout",
          "text": [
            "[[0 0]\n",
            " [0 0]]\n"
          ]
        }
      ]
    },
    {
      "cell_type": "code",
      "source": [
        "# 5\n",
        "\n",
        "import numpy as np\n",
        "\n",
        "array = np.ones_like(np.full((3,2), 13))\n",
        "print(array)"
      ],
      "metadata": {
        "id": "BiqfDbmkem9a",
        "colab": {
          "base_uri": "https://localhost:8080/"
        },
        "outputId": "17d34e3e-3f70-4430-d2cd-350ecac641d8"
      },
      "execution_count": null,
      "outputs": [
        {
          "output_type": "stream",
          "name": "stdout",
          "text": [
            "[[1 1]\n",
            " [1 1]\n",
            " [1 1]]\n"
          ]
        }
      ]
    },
    {
      "cell_type": "code",
      "source": [
        "# 6\n",
        "import numpy as np\n",
        "\n",
        "new_list = [1, 2, 3, 4]\n",
        "\n",
        "array = np.array(new_list)\n",
        "print(array)"
      ],
      "metadata": {
        "id": "9uiaDSxxem7V",
        "colab": {
          "base_uri": "https://localhost:8080/"
        },
        "outputId": "319a4e0d-7b10-4fb3-f251-77cb2b84f51d"
      },
      "execution_count": null,
      "outputs": [
        {
          "output_type": "stream",
          "name": "stdout",
          "text": [
            "[1 2 3 4]\n"
          ]
        }
      ]
    },
    {
      "cell_type": "code",
      "source": [
        "# 4.1.1 Problem - 2: Array Manipulation: Numerical Ranges and Array indexing:\n",
        "# 1\n",
        "import numpy as np\n",
        "\n",
        "array = np.arange(10, 50) # arange from 10 to 49 (inclusive)\n",
        "print(array)\n",
        "\n"
      ],
      "metadata": {
        "id": "Xll1D_siem5K",
        "colab": {
          "base_uri": "https://localhost:8080/"
        },
        "outputId": "144afffb-b56a-4d99-d091-e0c512ec7a34"
      },
      "execution_count": null,
      "outputs": [
        {
          "output_type": "stream",
          "name": "stdout",
          "text": [
            "[10 11 12 13 14 15 16 17 18 19 20 21 22 23 24 25 26 27 28 29 30 31 32 33\n",
            " 34 35 36 37 38 39 40 41 42 43 44 45 46 47 48 49]\n"
          ]
        }
      ]
    },
    {
      "cell_type": "code",
      "source": [
        "# 2\n",
        "import numpy as np\n",
        "\n",
        "array = np.arange(9) # arange from 0 to 8 inclusive\n",
        "\n",
        "matrix = array.reshape(3, 3) # reshaoping it into 3x3 matrix\n",
        "\n",
        "print(matrix)"
      ],
      "metadata": {
        "id": "zN5EcKjFem3G",
        "colab": {
          "base_uri": "https://localhost:8080/"
        },
        "outputId": "71677eb6-9325-4521-df6e-3923fcd5e3e0"
      },
      "execution_count": null,
      "outputs": [
        {
          "output_type": "stream",
          "name": "stdout",
          "text": [
            "[[0 1 2]\n",
            " [3 4 5]\n",
            " [6 7 8]]\n"
          ]
        }
      ]
    },
    {
      "cell_type": "code",
      "source": [
        "# 3\n",
        "import numpy as np\n",
        "\n",
        "identity_matrix = np.eye(3, dtype=int) # 3x3 identity matrix\n",
        "print(identity_matrix)"
      ],
      "metadata": {
        "id": "h2LkYKkBem0_",
        "colab": {
          "base_uri": "https://localhost:8080/"
        },
        "outputId": "1da48877-7976-43b4-c3a8-404f233f02ce"
      },
      "execution_count": null,
      "outputs": [
        {
          "output_type": "stream",
          "name": "stdout",
          "text": [
            "[[1 0 0]\n",
            " [0 1 0]\n",
            " [0 0 1]]\n"
          ]
        }
      ]
    },
    {
      "cell_type": "code",
      "source": [
        "# 4\n",
        "import numpy as np\n",
        "\n",
        "random_array = np.random.random(30) # random array of size 30\n",
        "\n",
        "mean = np.mean(random_array) # finding its mean\n",
        "\n",
        "print(\"random array:\\n\", random_array)\n",
        "print()\n",
        "print(\"mean of the arrray: \", mean)"
      ],
      "metadata": {
        "id": "-aFXlshCemyT",
        "colab": {
          "base_uri": "https://localhost:8080/"
        },
        "outputId": "f0c67e39-0437-4cbe-bb5a-b1fb0f3bc90c"
      },
      "execution_count": null,
      "outputs": [
        {
          "output_type": "stream",
          "name": "stdout",
          "text": [
            "random array:\n",
            " [0.76939879 0.36415335 0.7335724  0.46720219 0.42321634 0.26752839\n",
            " 0.73624092 0.68094586 0.6573512  0.5547441  0.71786855 0.02070482\n",
            " 0.10295535 0.03212821 0.07418739 0.77051512 0.30314796 0.31013227\n",
            " 0.80291258 0.32131886 0.2138324  0.77315328 0.57268315 0.33715994\n",
            " 0.94812205 0.45244721 0.97334768 0.48699449 0.98969916 0.5743236 ]\n",
            "\n",
            "mean of the arrray:  0.5143995870312873\n"
          ]
        }
      ]
    },
    {
      "cell_type": "code",
      "source": [
        "# 5\n",
        "import numpy as np\n",
        "\n",
        "random_array = np.random.random((10, 10)) # 10X10 array with random values\n",
        "\n",
        "# calaculating its minimum and maximum values\n",
        "minimum_value = random_array.min()\n",
        "maximum_value = random_array.max()\n",
        "\n",
        "print(\"Random 10x10 Array:\\n\", random_array)\n",
        "print()\n",
        "print(\"min value = \", minimum_value)\n",
        "print(\"max value = \", maximum_value)"
      ],
      "metadata": {
        "colab": {
          "base_uri": "https://localhost:8080/"
        },
        "id": "EuF1YgUZzfHZ",
        "outputId": "0085f8bc-ac60-487f-98ce-babdcf67e21f"
      },
      "execution_count": null,
      "outputs": [
        {
          "output_type": "stream",
          "name": "stdout",
          "text": [
            "Random 10x10 Array:\n",
            " [[0.79575063 0.03127989 0.36373958 0.2732173  0.459179   0.89634417\n",
            "  0.29792379 0.47652746 0.22433227 0.10139611]\n",
            " [0.85661729 0.68746967 0.6773845  0.94185831 0.0918785  0.88499705\n",
            "  0.31657423 0.8165066  0.74232973 0.28232002]\n",
            " [0.90335766 0.98830161 0.21495514 0.43126758 0.46712791 0.84743317\n",
            "  0.38138657 0.34534465 0.85797068 0.46355746]\n",
            " [0.12096979 0.1180624  0.74893955 0.66560245 0.38758497 0.81217114\n",
            "  0.73811352 0.17824455 0.27742973 0.99209107]\n",
            " [0.72629472 0.76017591 0.56515727 0.79234315 0.87594456 0.12671784\n",
            "  0.19971961 0.510554   0.2989199  0.13341296]\n",
            " [0.01931711 0.66642171 0.92853608 0.34208703 0.93389138 0.15455974\n",
            "  0.01139937 0.8995841  0.50773383 0.50548467]\n",
            " [0.94450738 0.63641845 0.6465516  0.5114555  0.90063451 0.48319963\n",
            "  0.63857963 0.04984683 0.04762529 0.87467554]\n",
            " [0.65631285 0.0627208  0.03796535 0.2837882  0.1282312  0.77198014\n",
            "  0.51448132 0.29854303 0.95870905 0.71809341]\n",
            " [0.37190289 0.07091833 0.72402158 0.23452332 0.41882956 0.14022504\n",
            "  0.5305786  0.41440936 0.3124942  0.31099591]\n",
            " [0.43684978 0.89997488 0.96152939 0.84535386 0.57110127 0.9556624\n",
            "  0.35264364 0.74025455 0.16638854 0.65757114]]\n",
            "\n",
            "min value =  0.011399369828338557\n",
            "max value =  0.9920910664661114\n"
          ]
        }
      ]
    },
    {
      "cell_type": "code",
      "source": [
        "# 6\n",
        "import numpy as np\n",
        "\n",
        "array = np.zeros(10) # zero array of size 10\n",
        "\n",
        "array[4] = 1 # replacing the 5th item(4 index) with 1\n",
        "\n",
        "print(array)"
      ],
      "metadata": {
        "colab": {
          "base_uri": "https://localhost:8080/"
        },
        "id": "xpQBYJ2pze6P",
        "outputId": "2806f529-fce3-4a22-e384-a67baf920914"
      },
      "execution_count": null,
      "outputs": [
        {
          "output_type": "stream",
          "name": "stdout",
          "text": [
            "[0. 0. 0. 0. 1. 0. 0. 0. 0. 0.]\n"
          ]
        }
      ]
    },
    {
      "cell_type": "code",
      "source": [
        "# 7\n",
        "import numpy as np\n",
        "\n",
        "array = np.array([1, 2, 0, 0, 4, 0])\n",
        "reverse_array = array[::-1]  # Reverse the array using slicing\n",
        "\n",
        "print(reverse_array)"
      ],
      "metadata": {
        "colab": {
          "base_uri": "https://localhost:8080/"
        },
        "id": "Vj1OVtSaze28",
        "outputId": "781d396a-e190-4590-8540-18ac785f91b8"
      },
      "execution_count": null,
      "outputs": [
        {
          "output_type": "stream",
          "name": "stdout",
          "text": [
            "[0 4 0 0 2 1]\n"
          ]
        }
      ]
    },
    {
      "cell_type": "code",
      "source": [
        "# 8\n",
        "\n",
        "arr = np.zeros((4, 4), dtype = int) # creating a 5x5 matrix with zeros in it\n",
        "\n",
        "\n",
        "arr[0, :] = 1 # keeping the first and the last row as 1\n",
        "arr[-1, :] = 1\n",
        "\n",
        "\n",
        "# keeping the first and the last column as 1\n",
        "arr[:, 0] = 1\n",
        "arr[:, -1] = 1\n",
        "\n",
        "\n",
        "print(arr)"
      ],
      "metadata": {
        "colab": {
          "base_uri": "https://localhost:8080/"
        },
        "id": "MfLwAUdTze0r",
        "outputId": "e1469875-1c5a-430c-ea1d-4d1f126487c4"
      },
      "execution_count": null,
      "outputs": [
        {
          "output_type": "stream",
          "name": "stdout",
          "text": [
            "[[1 1 1 1]\n",
            " [1 0 0 1]\n",
            " [1 0 0 1]\n",
            " [1 1 1 1]]\n"
          ]
        }
      ]
    },
    {
      "cell_type": "code",
      "source": [
        "# 9\n",
        "import numpy as np\n",
        "\n",
        "# Creating an 8x8 matrix\n",
        "checkerboard = np.zeros((8, 8), dtype=int)\n",
        "\n",
        "checkerboard[::2, ::2] = 1  # selects the even rows and column\n",
        "checkerboard[1::2, 1::2] = 1  # selects the odd rows and column\n",
        "\n",
        "print(checkerboard)"
      ],
      "metadata": {
        "colab": {
          "base_uri": "https://localhost:8080/"
        },
        "id": "h8Sui7JIzeyP",
        "outputId": "1a039c9c-7417-41ed-d6ed-933631ffad87"
      },
      "execution_count": null,
      "outputs": [
        {
          "output_type": "stream",
          "name": "stdout",
          "text": [
            "[[1 0 1 0 1 0 1 0]\n",
            " [0 1 0 1 0 1 0 1]\n",
            " [1 0 1 0 1 0 1 0]\n",
            " [0 1 0 1 0 1 0 1]\n",
            " [1 0 1 0 1 0 1 0]\n",
            " [0 1 0 1 0 1 0 1]\n",
            " [1 0 1 0 1 0 1 0]\n",
            " [0 1 0 1 0 1 0 1]]\n"
          ]
        }
      ]
    },
    {
      "cell_type": "code",
      "source": [
        "# Problem - 3: Array Operations:\n",
        "import numpy as np\n",
        "\n",
        "x = np.array([[1, 2], [3, 5]])\n",
        "y = np.array([[5, 6], [7, 8]])\n",
        "v = np.array([9, 10])\n",
        "w = np.array([11, 12])\n",
        "\n",
        "# 1\n",
        "sum = x + y\n",
        "print(\"Sum of x and y:\")\n",
        "print(sum)\n",
        "\n",
        "# 2\n",
        "difference = x - y\n",
        "print(\"\\nDifference of x and y:\")\n",
        "print(difference)\n",
        "\n",
        "# 3\n",
        "multiplied_with_5 = y * 5\n",
        "print(\"\\y Multiplied by 5:\")\n",
        "print(multiplied_with_5)\n",
        "\n",
        "# 4\n",
        "square_x = np.square(x)\n",
        "print(\"\\nSquare of each element in x:\")\n",
        "print(square_x)\n",
        "\n",
        "square_y = np.square(y)\n",
        "print(\"\\nSquare of each element in y:\")\n",
        "print(square_y)\n",
        "\n",
        "# 5\n",
        "dot_product_of_vw = np.dot(v, w)\n",
        "print(\"\\nDot product of v and w:\")\n",
        "print(dot_product_of_vw)\n",
        "\n",
        "dot_product_of_xv = np.dot(x, v)\n",
        "print(\"\\nDot product of x and v:\")\n",
        "print(dot_product_of_xv)\n",
        "\n",
        "dot_product_of_xy = np.dot(x, y)\n",
        "print(\"\\nDot product of x and y:\")\n",
        "print(dot_product_of_xy)\n",
        "\n",
        "\n",
        "# 6\n",
        "concatenate_xy = np.concatenate((x, y), axis=1)\n",
        "print(\"\\nConcatenated x and y along rows:\")\n",
        "print(concatenate_xy)\n",
        "\n",
        "\n",
        "# 7\n",
        "concat_vw = np.concatenate((v.reshape(-1, 1), w.reshape(-1, 1)), axis=1)\n",
        "print(\"Concatenated v and w along columns:\")\n",
        "print(concat_vw)\n",
        "\n",
        "\n",
        "# concat_xv = np.concatenate((x, v), axis=1)\n",
        "# ValueError: all the input arrays must have same number of dimensions\n"
      ],
      "metadata": {
        "colab": {
          "base_uri": "https://localhost:8080/"
        },
        "id": "Rnwow7QpzewP",
        "outputId": "fe8cceca-007a-428b-9d3f-003680d48d08"
      },
      "execution_count": null,
      "outputs": [
        {
          "output_type": "stream",
          "name": "stdout",
          "text": [
            "Sum of x and y:\n",
            "[[ 6  8]\n",
            " [10 13]]\n",
            "\n",
            "Difference of x and y:\n",
            "[[-4 -4]\n",
            " [-4 -3]]\n",
            "\\y Multiplied by 5:\n",
            "[[25 30]\n",
            " [35 40]]\n",
            "\n",
            "Square of each element in x:\n",
            "[[ 1  4]\n",
            " [ 9 25]]\n",
            "\n",
            "Square of each element in y:\n",
            "[[25 36]\n",
            " [49 64]]\n",
            "\n",
            "Dot product of v and w:\n",
            "219\n",
            "\n",
            "Dot product of x and v:\n",
            "[29 77]\n",
            "\n",
            "Dot product of x and y:\n",
            "[[19 22]\n",
            " [50 58]]\n",
            "\n",
            "Concatenated x and y along rows:\n",
            "[[1 2 5 6]\n",
            " [3 5 7 8]]\n",
            "Concatenated v and w along columns:\n",
            "[[ 9 11]\n",
            " [10 12]]\n"
          ]
        }
      ]
    },
    {
      "cell_type": "code",
      "source": [
        "# Problem - 4: Matrix Operations:\n",
        "import numpy as np\n",
        "\n",
        "A = np.array([[3, 4], [7, 8]])\n",
        "B = np.array([[5, 3], [2, 1]])\n",
        "\n",
        "# 1 Prove A * A_inv = I\n",
        "A_inverse = np.linalg.inv(A)\n",
        "result = np.dot(A, A_inverse)\n",
        "result = np.array(result, dtype=int)\n",
        "\n",
        "print(\"A * A_inv = \\n\", result)\n",
        "print()\n",
        "\n",
        "# 2 Prove AB != BA\n",
        "AB = np.dot(A, B)\n",
        "BA = np.dot(B, A)\n",
        "print(\"AB = \\n\", AB)\n",
        "print()\n",
        "print(\"BA = \\n\", BA)\n",
        "print()\n",
        "\n",
        "\n",
        "# 3. Prove (AB)^T = B^T * A^T\n",
        "transpose_of_AB = np.transpose(AB)\n",
        "transpose_of_B_x_transpose_of_A = np.dot(np.transpose(B), np.transpose(A))\n",
        "print(\"(AB)^T = \\n\", transpose_of_AB)\n",
        "print()\n",
        "print(\"B^T * A^T = \\n\", transpose_of_B_x_transpose_of_A)\n",
        "print()\n"
      ],
      "metadata": {
        "colab": {
          "base_uri": "https://localhost:8080/"
        },
        "id": "ESMnP1Nvzetv",
        "outputId": "d681ad1f-880b-42a6-8b5f-2946988d2715"
      },
      "execution_count": null,
      "outputs": [
        {
          "output_type": "stream",
          "name": "stdout",
          "text": [
            "A * A_inv = \n",
            " [[1 0]\n",
            " [0 0]]\n",
            "\n",
            "AB = \n",
            " [[23 13]\n",
            " [51 29]]\n",
            "\n",
            "BA = \n",
            " [[36 44]\n",
            " [13 16]]\n",
            "\n",
            "(AB)^T = \n",
            " [[23 51]\n",
            " [13 29]]\n",
            "\n",
            "B^T * A^T = \n",
            " [[23 51]\n",
            " [13 29]]\n",
            "\n",
            "Therefore X = [ 2.  1. -2.]\n"
          ]
        }
      ]
    },
    {
      "cell_type": "code",
      "source": [
        "# Solve the system of equations using inverse method\n",
        "A = np.array([[2, -3, 1], [1, -1, 2], [3, 1, -1]])\n",
        "B = np.array([-1, -3, 9])\n",
        "X = []\n",
        "if(np.linalg.det(A) != 0):\n",
        "\n",
        "    A_inverse = np.linalg.inv(A)\n",
        "    X = np.dot(A_inverse, B)\n",
        "    print(\"Therefore X =\", X)\n",
        "else:\n",
        "    print(\"The matrix is singular. can't be solved.\")\n"
      ],
      "metadata": {
        "colab": {
          "base_uri": "https://localhost:8080/"
        },
        "id": "-SXYasFj8TKv",
        "outputId": "4efd10ca-56ba-40a3-9e64-4bc19be570cb"
      },
      "execution_count": null,
      "outputs": [
        {
          "output_type": "stream",
          "name": "stdout",
          "text": [
            "Therefore X = [ 2.  1. -2.]\n"
          ]
        }
      ]
    }
  ]
}